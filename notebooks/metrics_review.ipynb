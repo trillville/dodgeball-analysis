{
 "cells": [
  {
   "cell_type": "code",
   "execution_count": 63,
   "metadata": {},
   "outputs": [],
   "source": [
    "import pandas as pd\n",
    "import numpy as np\n",
    "import lightgbm as lgb \n",
    "from sklearn.model_selection import train_test_split\n",
    "from sklearn.metrics import confusion_matrix, accuracy_score, roc_auc_score"
   ]
  },
  {
   "cell_type": "code",
   "execution_count": 64,
   "metadata": {},
   "outputs": [],
   "source": [
    "sample_df = pd.read_csv('sample_data.csv')\n",
    "features = list(set(sample_df.columns) - set((\"manual_fraud\", \"bot_fraud\")))"
   ]
  },
  {
   "cell_type": "code",
   "execution_count": 84,
   "metadata": {},
   "outputs": [
    {
     "name": "stdout",
     "output_type": "stream",
     "text": [
      "[LightGBM] [Warning] Accuracy may be bad since you didn't explicitly set num_leaves OR 2^max_depth > num_leaves. (num_leaves=31).\n",
      "[LightGBM] [Warning] Accuracy may be bad since you didn't explicitly set num_leaves OR 2^max_depth > num_leaves. (num_leaves=31).\n",
      "[LightGBM] [Info] Number of positive: 1757, number of negative: 698243\n",
      "[LightGBM] [Warning] Auto-choosing col-wise multi-threading, the overhead of testing was 0.038705 seconds.\n",
      "You can set `force_col_wise=true` to remove the overhead.\n",
      "[LightGBM] [Info] Total Bins 42\n",
      "[LightGBM] [Info] Number of data points in the train set: 700000, number of used features: 18\n",
      "[LightGBM] [Info] [binary:BoostFromScore]: pavg=0.002510 -> initscore=-5.984959\n",
      "[LightGBM] [Info] Start training from score -5.984959\n",
      "[LightGBM] [Warning] No further splits with positive gain, best gain: -inf\n"
     ]
    },
    {
     "name": "stderr",
     "output_type": "stream",
     "text": [
      "/Users/tillman/sentry/notebooks/env/lib/python3.7/site-packages/ipykernel_launcher.py:20: SettingWithCopyWarning: \n",
      "A value is trying to be set on a copy of a slice from a DataFrame.\n",
      "Try using .loc[row_indexer,col_indexer] = value instead\n",
      "\n",
      "See the caveats in the documentation: https://pandas.pydata.org/pandas-docs/stable/user_guide/indexing.html#returning-a-view-versus-a-copy\n",
      "/Users/tillman/sentry/notebooks/env/lib/python3.7/site-packages/ipykernel_launcher.py:21: SettingWithCopyWarning: \n",
      "A value is trying to be set on a copy of a slice from a DataFrame.\n",
      "Try using .loc[row_indexer,col_indexer] = value instead\n",
      "\n",
      "See the caveats in the documentation: https://pandas.pydata.org/pandas-docs/stable/user_guide/indexing.html#returning-a-view-versus-a-copy\n",
      "/Users/tillman/sentry/notebooks/env/lib/python3.7/site-packages/ipykernel_launcher.py:22: SettingWithCopyWarning: \n",
      "A value is trying to be set on a copy of a slice from a DataFrame.\n",
      "Try using .loc[row_indexer,col_indexer] = value instead\n",
      "\n",
      "See the caveats in the documentation: https://pandas.pydata.org/pandas-docs/stable/user_guide/indexing.html#returning-a-view-versus-a-copy\n"
     ]
    }
   ],
   "source": [
    "X = sample_df[features]\n",
    "y_manual = sample_df[\"manual_fraud\"]\n",
    "y_bot = sample_df[\"bot_fraud\"]\n",
    "\n",
    "X_train,X_test,y_train,y_test=train_test_split(X,y_manual,test_size=0.3,random_state=0)\n",
    "d_train=lgb.Dataset(X_train.drop(columns=['visitor_profile']), label=y_train)\n",
    "\n",
    "params={}\n",
    "params['learning_rate']=0.03\n",
    "params['boosting_type']='rf' #GradientBoostingDecisionTree\n",
    "params['objective']='binary' #Binary target feature\n",
    "params['metric']='binary_logloss' #metric for binary classification\n",
    "params['max_depth']=5\n",
    "#params[\"is_unbalance\"]=True\n",
    "params[\"bagging_freq\"] = 5\n",
    "params[\"bagging_fraction\"] =0.5\n",
    "#train the model \n",
    "clf=lgb.train(params,d_train,1) #train the model on 100 epocs\n",
    "#prediction on the test set\n",
    "X_test[\"y_pred\"] = clf.predict(X_test.drop(columns=['visitor_profile']))\n",
    "X_test[\"y_pred_binary\"] = np.where(X_test[\"y_pred\"] > 0.01, 1, 0)\n",
    "X_test[\"y_test\"] = y_test\n",
    "\n",
    "# focus on manual cases\n",
    "X_test = X_test[X_test[\"visitor_profile\"].isin((\"highly_suspicious_visitor\", \"suspicious_visitor\", \"manual_card_fraud\", \"normal_visitor\"))]\n"
   ]
  },
  {
   "cell_type": "code",
   "execution_count": 85,
   "metadata": {},
   "outputs": [],
   "source": [
    "tn, fp, fn, tp = confusion_matrix(X_test[\"y_test\"], X_test[\"y_pred_binary\"]).ravel()\n",
    "sensitivity = tp / (tp+fn)\n",
    "specificity = tn / (tn + fp)"
   ]
  },
  {
   "cell_type": "markdown",
   "metadata": {},
   "source": [
    "## Accuracy\n",
    "Accuracy is defined as correct predictions / total predictions"
   ]
  },
  {
   "cell_type": "code",
   "execution_count": 82,
   "metadata": {},
   "outputs": [
    {
     "name": "stdout",
     "output_type": "stream",
     "text": [
      "accuracy: 0.9966266664872937\n"
     ]
    }
   ],
   "source": [
    "acc = accuracy_score(X_test[\"y_test\"], X_test[\"y_pred_binary\"])\n",
    "print(f\"accuracy: {acc}\")"
   ]
  },
  {
   "cell_type": "markdown",
   "metadata": {},
   "source": [
    "## Sensitivity\n",
    "Sensitivity (True Positive rate) measures the proportion of positives that are correctly identified (i.e. the proportion of those who have some condition (affected) who are correctly identified as having the condition)."
   ]
  },
  {
   "cell_type": "code",
   "execution_count": 86,
   "metadata": {},
   "outputs": [
    {
     "name": "stdout",
     "output_type": "stream",
     "text": [
      "sensitivity:  0.973421926910299\n"
     ]
    }
   ],
   "source": [
    "sensitivity = tp / (tp+fn)\n",
    "print(\"sensitivity: \", sensitivity)"
   ]
  },
  {
   "cell_type": "markdown",
   "metadata": {},
   "source": [
    "## Specificity\n",
    "Specificity (True Negative rate) measures the proportion of negatives that are correctly identified (i.e. the proportion of those who do not have the condition (unaffected) who are correctly identified as not having the condition)."
   ]
  },
  {
   "cell_type": "code",
   "execution_count": 87,
   "metadata": {},
   "outputs": [
    {
     "name": "stdout",
     "output_type": "stream",
     "text": [
      "specificity:  0.9956469190084537\n"
     ]
    }
   ],
   "source": [
    "specificity = tn / (tn + fp)\n",
    "print(\"specificity: \", specificity)"
   ]
  },
  {
   "cell_type": "markdown",
   "metadata": {},
   "source": [
    "## ROC Curve\n",
    "Receiver operating characteristic curve, or ROC curve, is a graphical plot that illustrates the diagnostic ability of a binary classifier system as its discrimination threshold is varied.\n",
    "\n",
    "An ROC curve plots TPR vs. FPR at different classification thresholds. Lowering the classification threshold classifies more items as positive, thus increasing both False Positives and True Positives. The following figure shows a typical ROC curve."
   ]
  },
  {
   "cell_type": "code",
   "execution_count": 58,
   "metadata": {},
   "outputs": [
    {
     "data": {
      "image/png": "[encoded data removed]",
      "text/plain": [
       "<Figure size 360x360 with 1 Axes>"
      ]
     },
     "metadata": {},
     "output_type": "display_data"
    }
   ],
   "source": [
    "from sklearn.ensemble import RandomForestClassifier\n",
    "\n",
    "clf = RandomForestClassifier(n_estimators=1, random_state=23)\n",
    "X_train,X_test,y_train,y_test=train_test_split(X,y_manual,test_size=0.3,random_state=0)\n",
    "model = clf.fit(X_train.drop(columns=['visitor_profile']).fillna(True), y_train)\n",
    "\n",
    "# Use predict_proba to predict probability of the class\n",
    "y_pred = clf.predict_proba(X_test.drop(columns=['visitor_profile']).fillna(True))[:,1]\n",
    "\n",
    "from plot_metric.functions import BinaryClassification\n",
    "# Visualisation with plot_metric\n",
    "bc = BinaryClassification(y_test, y_pred, labels=[\"Fraud\", \"Not Fraud\"])\n",
    "\n",
    "# Figures\n",
    "plt.figure(figsize=(5,5))\n",
    "bc.plot_roc_curve()\n",
    "plt.show()"
   ]
  },
  {
   "cell_type": "markdown",
   "metadata": {},
   "source": [
    "## Area Under Curve\n",
    "AUC provides an aggregate measure of performance across all possible classification thresholds. One way of interpreting AUC is as the probability that the model ranks a random positive example more highly than a random negative example. For example, given the following examples, which are arranged from left to right in ascending order of logistic regression predictions:"
   ]
  },
  {
   "cell_type": "code",
   "execution_count": 74,
   "metadata": {},
   "outputs": [
    {
     "data": {
      "text/plain": [
       "0.9975221609306393"
      ]
     },
     "execution_count": 74,
     "metadata": {},
     "output_type": "execute_result"
    }
   ],
   "source": [
    "roc_auc_score(X_test[\"y_test\"], X_test[\"y_pred\"])"
   ]
  },
  {
   "cell_type": "markdown",
   "metadata": {},
   "source": [
    "## Log-loss\n",
    "Log loss is the classification equivalent of Mean-Squared Error in the regression world. Like accuracy, it symmetrically penalizes all incorrect predictions. Log loss is a much more nuanced metric though, because it penalizes our predictions based on how confident they were. For example, if we predict a particular visitor is fraud with 99% probability, and it turns out they were legit, the penalty would be much higher than if we predicted fraud with 51% probability. \n",
    "\n",
    "Because we explicitly care about both confidence and accuracy, log-loss is actually a good metric for the world of fraud detection IMO. However, to make it truly useful, we need to incorporate a custom loss function so that False Positives and False Negatives are not treated eqaully. "
   ]
  },
  {
   "cell_type": "code",
   "execution_count": 76,
   "metadata": {},
   "outputs": [
    {
     "data": {
      "text/plain": [
       "0.044192468639065466"
      ]
     },
     "execution_count": 76,
     "metadata": {},
     "output_type": "execute_result"
    }
   ],
   "source": [
    "\n",
    "from sklearn.metrics import log_loss\n",
    "log_loss(X_test[\"y_test\"], X_test[\"y_pred\"])"
   ]
  },
  {
   "cell_type": "markdown",
   "metadata": {},
   "source": [
    "## Metrics Summary\n",
    "Important Metrics:\n",
    "- AUC\n",
    "- Sensitivity\n",
    "- Log-loss (with custom loss function)\n",
    "\n",
    "Unimportant Metrics:\n",
    "- Accuracy\n",
    "- Log-loss (without custom loss function)"
   ]
  },
  {
   "cell_type": "markdown",
   "metadata": {},
   "source": [
    "## Unbalanced Data Approaches\n",
    "- Weighted training - make it so errors for certain rows of data are penalized more heavily. In practice, we could correspond these weights to different visitor profiles (e.g. `manual_card_fraud` weighted much higher than `normal_visitor`)\n",
    "- Balanced training - scale up the minority class so that both are represented equally in training data\n",
    "- Generate fake data - lots of clever algos out there to simulate data corresponding to the smaller class - more sophisticated than Balanced training\n",
    "- Custom loss function - calibrate the loss function to the real-world impact of a mistake. For example, if the cost is 100 for a False Negative (failed to detect fraud) and 1 for a False Positive (annoyed a legit guest), we could use a custom cost function of (100, 1) for relative cost of FN and FP\n"
   ]
  },
  {
   "cell_type": "code",
   "execution_count": 89,
   "metadata": {},
   "outputs": [],
   "source": [
    "# 1) API classifies as fraud, drop off -> ?\n",
    "# 2) API doesnt classify as fraud, chargeback -> FN\n",
    "# 3) API classifies as fraud, dont drop off\n",
    "# 4) API classifies as fraud, dont drop off, rejected anyway"
   ]
  },
  {
   "cell_type": "code",
   "execution_count": null,
   "metadata": {},
   "outputs": [],
   "source": []
  }
 ],
 "metadata": {
  "kernelspec": {
   "display_name": "Python 3",
   "language": "python",
   "name": "python3"
  },
  "language_info": {
   "codemirror_mode": {
    "name": "ipython",
    "version": 3
   },
   "file_extension": ".py",
   "mimetype": "text/x-python",
   "name": "python",
   "nbconvert_exporter": "python",
   "pygments_lexer": "ipython3",
   "version": "3.7.3"
  }
 },
 "nbformat": 4,
 "nbformat_minor": 4
}
